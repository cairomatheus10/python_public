{
  "nbformat": 4,
  "nbformat_minor": 0,
  "metadata": {
    "colab": {
      "provenance": [],
      "authorship_tag": "ABX9TyN8fKStAvBZBTeTxt7bhVCG",
      "include_colab_link": true
    },
    "kernelspec": {
      "name": "python3",
      "display_name": "Python 3"
    },
    "language_info": {
      "name": "python"
    }
  },
  "cells": [
    {
      "cell_type": "markdown",
      "metadata": {
        "id": "view-in-github",
        "colab_type": "text"
      },
      "source": [
        "<a href=\"https://colab.research.google.com/github/cairomatheus10/python_public/blob/main/calculadora.ipynb\" target=\"_parent\"><img src=\"https://colab.research.google.com/assets/colab-badge.svg\" alt=\"Open In Colab\"/></a>"
      ]
    },
    {
      "cell_type": "code",
      "source": [
        "def calculadora(num1, num2, operacao):\n",
        "  resultado = (num1, operacao, num2);\n",
        "  if (operacao == \"+\"):\n",
        "    resultado = (num1 + num2);\n",
        "\n",
        "  elif  (operacao == \"-\"):\n",
        "    resultado = (num1 - num2);\n",
        "\n",
        "  elif (operacao == \"*\"):\n",
        "    resultado = (num1 * num2);\n",
        "\n",
        "  elif (operacao == \"/\"):\n",
        "    resultado = (num1 / num2);\n",
        "  else:\n",
        "    return 0;\n",
        "\n",
        "novo_result = (10 - 1400);\n",
        "print(novo_result);"
      ],
      "metadata": {
        "colab": {
          "base_uri": "https://localhost:8080/"
        },
        "id": "Lpfs2o-Vdjmf",
        "outputId": "0e64525c-26a1-4d71-b49c-b1975877b148"
      },
      "execution_count": null,
      "outputs": [
        {
          "output_type": "stream",
          "name": "stdout",
          "text": [
            "-1390\n"
          ]
        }
      ]
    },
    {
      "cell_type": "code",
      "execution_count": null,
      "metadata": {
        "id": "F1vgbGDaZGrE"
      },
      "outputs": [],
      "source": [
        "def media_aluno(nota1, nota2):\n",
        "  media_aluno = (nota1 + nota2) / 2\n",
        "  return media_aluno\n",
        "\n",
        "resultado = media_aluno(10, 10);\n",
        "print(resultado);"
      ]
    },
    {
      "cell_type": "code",
      "source": [
        "def ant_e_suc(num):\n",
        "  ant = num - 1;\n",
        "  suc = num + 1;\n",
        "  return ant, suc\n",
        "\n",
        "antecessor, sucessor = ant_e_suc(100);\n",
        "print(antecessor);\n",
        "print(sucessor);"
      ],
      "metadata": {
        "id": "c1o-cXozckOr"
      },
      "execution_count": null,
      "outputs": []
    }
  ]
}