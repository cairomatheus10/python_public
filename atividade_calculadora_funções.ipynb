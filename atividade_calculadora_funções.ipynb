{
  "nbformat": 4,
  "nbformat_minor": 0,
  "metadata": {
    "colab": {
      "provenance": [],
      "authorship_tag": "ABX9TyOyPyNyvB6lda1sz+hrg/70",
      "include_colab_link": true
    },
    "kernelspec": {
      "name": "python3",
      "display_name": "Python 3"
    },
    "language_info": {
      "name": "python"
    }
  },
  "cells": [
    {
      "cell_type": "markdown",
      "metadata": {
        "id": "view-in-github",
        "colab_type": "text"
      },
      "source": [
        "<a href=\"https://colab.research.google.com/github/cairomatheus10/python_public/blob/main/atividade_calculadora_fun%C3%A7%C3%B5es.ipynb\" target=\"_parent\"><img src=\"https://colab.research.google.com/assets/colab-badge.svg\" alt=\"Open In Colab\"/></a>"
      ]
    },
    {
      "cell_type": "code",
      "execution_count": 30,
      "metadata": {
        "colab": {
          "base_uri": "https://localhost:8080/"
        },
        "id": "S4RGxbdrIGM8",
        "outputId": "1bb4efdc-03f6-46e3-9168-819c96740f96"
      },
      "outputs": [
        {
          "name": "stdout",
          "output_type": "stream",
          "text": [
            "0. Sair do programa.\n",
            "1. Somar números.\n",
            "2. Subtrair números.\n",
            "3. Multiplicar números.\n",
            "4. Dividir números.\n",
            "Digite qual a opção da operação: 0\n"
          ]
        }
      ],
      "source": [
        "def soma():   ##  FUNÇÃO PARA REALIZAR SOMA\n",
        "  num1 = float(input(\"Digite o primeiro número:\"));\n",
        "  num2 = float(input(\"Digite o segundo número: \"));\n",
        "  print(\"Soma: \",num1+num2);\n",
        "\n",
        "def subtracao(): ## FUNÇAO PARA REALIZAR SUBTRAÇÃO\n",
        "  num1 = float(input(\"Digite o primeiro número:\"));\n",
        "  num2 = float(input(\"Digite o segundo número: \"));\n",
        "  print(\"Subtração: \",num1-num2);\n",
        "\n",
        "def multiplicacao(): ## FUNÇÃO PARA REALIZAR MULTIPLICAÇÃO\n",
        "  num1 = float(input(\"Digite o primeiro número:\"));\n",
        "  num2 = float(input(\"Digite o segundo número: \"));\n",
        "  print(\"Multiplicação: \",num1*num2);\n",
        "\n",
        "def divisao(): ## FUNÇÃO PARA REALIZAR DIVISÃO\n",
        "  num1 = float(input(\"Digite o primeiro número:\"));\n",
        "  num2 = float(input(\"Digite o segundo número: \"));\n",
        "  print(\"Divisão: \",num1/num2);\n",
        "\n",
        "opcao=1; ## OPÇÃO=1 PARA QUE SEJA VERDADEIRO NO PRIMEIRO WHILE.\n",
        "\n",
        "while opcao:\n",
        "    print(\"0. Sair do programa.\");\n",
        "    print(\"1. Somar números.\");\n",
        "    print(\"2. Subtrair números.\")\n",
        "    print(\"3. Multiplicar números.\")\n",
        "    print(\"4. Dividir números.\")\n",
        "\n",
        "    opcao = int(input(\"Digite qual a opção da operação: \"));\n",
        "\n",
        "    if(opcao==1):\n",
        "      soma();\n",
        "    if(opcao==2):\n",
        "      subtracao();\n",
        "    if(opcao==3):\n",
        "      multiplicacao();\n",
        "    if(opcao==4):\n",
        "      divisao();"
      ]
    }
  ]
}