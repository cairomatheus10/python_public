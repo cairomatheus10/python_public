{
  "nbformat": 4,
  "nbformat_minor": 0,
  "metadata": {
    "colab": {
      "provenance": [],
      "name": "calculadora_atividade.ipynb",
      "authorship_tag": "ABX9TyMtPTOfz7OR6jCsA9W5Cz1x",
      "include_colab_link": true
    },
    "kernelspec": {
      "name": "python3",
      "display_name": "Python 3"
    },
    "language_info": {
      "name": "python"
    }
  },
  "cells": [
    {
      "cell_type": "markdown",
      "metadata": {
        "id": "view-in-github",
        "colab_type": "text"
      },
      "source": [
        "<a href=\"https://colab.research.google.com/github/cairomatheus10/python_public/blob/main/calculadora_atividade.ipynb\" target=\"_parent\"><img src=\"https://colab.research.google.com/assets/colab-badge.svg\" alt=\"Open In Colab\"/></a>"
      ]
    },
    {
      "cell_type": "code",
      "source": [
        "def calculadora(num1, num2, operacao):\n",
        "  if (operacao == 1):\n",
        "    return (num1 + num2);\n",
        "\n",
        "  elif  (operacao == 2):\n",
        "    resultado (num1 - num2);\n",
        "\n",
        "  elif (operacao == 3):\n",
        "    return (num1 * num2);\n",
        "\n",
        "  elif (operacao == 4):\n",
        "    return (num1 / num2);\n",
        "  else:\n",
        "    return 0;\n",
        "\n",
        "novo_result = calculadora(10, 7, 1);\n",
        "print(novo_result);"
      ],
      "metadata": {
        "colab": {
          "base_uri": "https://localhost:8080/"
        },
        "id": "Lpfs2o-Vdjmf",
        "outputId": "4041be6d-3446-49e1-9f14-dffafe6755c3"
      },
      "execution_count": 5,
      "outputs": [
        {
          "output_type": "stream",
          "name": "stdout",
          "text": [
            "17\n"
          ]
        }
      ]
    }
  ]
}